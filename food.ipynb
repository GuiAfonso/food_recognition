{
 "cells": [
  {
   "cell_type": "code",
   "execution_count": 3,
   "metadata": {},
   "outputs": [
    {
     "name": "stderr",
     "output_type": "stream",
     "text": [
      "/home/guilhermino/anaconda3/envs/fastai/lib/python3.6/site-packages/h5py/__init__.py:36: FutureWarning: Conversion of the second argument of issubdtype from `float` to `np.floating` is deprecated. In future, it will be treated as `np.float64 == np.dtype(float).type`.\n",
      "  from ._conv import register_converters as _register_converters\n",
      "Using TensorFlow backend.\n"
     ]
    }
   ],
   "source": [
    "from keras.preprocessing.image import ImageDataGenerator\n",
    "from keras.models import Sequential\n",
    "from keras.layers import Conv2D, MaxPooling2D\n",
    "from keras.layers import Activation, Dropout, Flatten, Dense\n",
    "from keras.utils import np_utils\n",
    "from keras import backend as K"
   ]
  },
  {
   "cell_type": "code",
   "execution_count": 4,
   "metadata": {},
   "outputs": [],
   "source": [
    "import os, cv2\n",
    "import numpy as np\n",
    "import matplotlib.pyplot as plt\n",
    "import h5py"
   ]
  },
  {
   "cell_type": "code",
   "execution_count": 5,
   "metadata": {},
   "outputs": [],
   "source": [
    "train_data_dir = 'data/train'\n",
    "validation_data_dir = 'data/validation'\n",
    "nb_test_samples = 2400\n",
    "nb_train_samples = 7968\n",
    "nb_validation_samples = 1632\n",
    "epochs = 20\n",
    "batch_size = 364\n",
    "num_classes = 12\n",
    "\n",
    "names = [\n",
    "    'carrot_cake', 'chocolate_cake', 'cup_cakes', 'french_fries','garlic_bread','hamburger',\n",
    "    'hot_dog','ice_cream','lasagna','omelette','pizza','spaghetti_bolognese']"
   ]
  },
  {
   "cell_type": "code",
   "execution_count": 6,
   "metadata": {},
   "outputs": [],
   "source": [
    "PATH = os.getcwd()\n",
    "# Define data path\n",
    "test_dir = PATH + '/data/test'\n",
    "train_dir = PATH + '/data/train'\n",
    "valid_dir = PATH + '/data/validation'\n",
    "\n",
    "test_dir_list = os.listdir(test_dir)\n",
    "test_dir_list.sort()\n",
    "train_dir_list = os.listdir(train_dir)\n",
    "train_dir_list.sort()\n",
    "valid_dir_list = os.listdir(valid_dir)\n",
    "valid_dir_list.sort()"
   ]
  },
  {
   "cell_type": "code",
   "execution_count": 7,
   "metadata": {},
   "outputs": [],
   "source": [
    "test_x_list = []\n",
    "train_x_list = []\n",
    "valid_x_list = []"
   ]
  },
  {
   "cell_type": "code",
   "execution_count": 8,
   "metadata": {},
   "outputs": [
    {
     "name": "stdout",
     "output_type": "stream",
     "text": [
      "carrot_cake\n",
      "chocolate_cake\n",
      "cup_cakes\n",
      "french_fries\n",
      "garlic_bread\n",
      "hamburger\n",
      "hot_dog\n",
      "ice_cream\n",
      "lasagna\n",
      "omelette\n",
      "pizza\n",
      "spaghetti_bolognese\n"
     ]
    }
   ],
   "source": [
    "for dataset in test_dir_list:\n",
    "    img_list = os.listdir(test_dir +'/'+ dataset)\n",
    "    print(dataset)\n",
    "    for img in img_list:\n",
    "        image = cv2.imread(test_dir + '/'+ dataset + '/'+ img )\n",
    "        image = cv2.resize(image, (150, 150))\n",
    "        test_x_list.append(image)"
   ]
  },
  {
   "cell_type": "code",
   "execution_count": 9,
   "metadata": {},
   "outputs": [
    {
     "name": "stdout",
     "output_type": "stream",
     "text": [
      "carrot_cake\n",
      "chocolate_cake\n",
      "cup_cakes\n",
      "french_fries\n",
      "garlic_bread\n",
      "hamburger\n",
      "hot_dog\n",
      "ice_cream\n",
      "lasagna\n",
      "omelette\n",
      "pizza\n",
      "spaghetti_bolognese\n"
     ]
    }
   ],
   "source": [
    "for dataset in train_dir_list:\n",
    "    img_list = os.listdir(train_dir +'/'+ dataset)\n",
    "    print(dataset)\n",
    "    for img in img_list:\n",
    "        image = cv2.imread(train_dir + '/'+ dataset + '/'+ img )\n",
    "        image = cv2.resize(image, (150, 150))\n",
    "        train_x_list.append(image)"
   ]
  },
  {
   "cell_type": "code",
   "execution_count": 10,
   "metadata": {},
   "outputs": [
    {
     "name": "stdout",
     "output_type": "stream",
     "text": [
      "carrot_cake\n",
      "chocolate_cake\n",
      "cup_cakes\n",
      "french_fries\n",
      "garlic_bread\n",
      "hamburger\n",
      "hot_dog\n",
      "ice_cream\n",
      "lasagna\n",
      "omelette\n",
      "pizza\n",
      "spaghetti_bolognese\n"
     ]
    }
   ],
   "source": [
    "for dataset in valid_dir_list:\n",
    "    img_list = os.listdir(valid_dir +'/'+ dataset)\n",
    "    print(dataset)\n",
    "    for img in img_list:\n",
    "        image = cv2.imread(valid_dir + '/'+ dataset + '/'+ img )\n",
    "        image = cv2.resize(image, (150, 150))\n",
    "        valid_x_list.append(image)"
   ]
  },
  {
   "cell_type": "code",
   "execution_count": 11,
   "metadata": {},
   "outputs": [
    {
     "name": "stdout",
     "output_type": "stream",
     "text": [
      "(2400, 150, 150, 3)\n"
     ]
    }
   ],
   "source": [
    "test_x = np.array(test_x_list)\n",
    "test_x = test_x.astype('float32')\n",
    "test_x = test_x / 255.\n",
    "print (test_x.shape)"
   ]
  },
  {
   "cell_type": "code",
   "execution_count": 12,
   "metadata": {},
   "outputs": [
    {
     "name": "stdout",
     "output_type": "stream",
     "text": [
      "(7968, 150, 150, 3)\n"
     ]
    }
   ],
   "source": [
    "train_x = np.array(train_x_list)\n",
    "train_x = train_x.astype('float32')\n",
    "train_x = train_x / 255.\n",
    "print (train_x.shape)"
   ]
  },
  {
   "cell_type": "code",
   "execution_count": 13,
   "metadata": {},
   "outputs": [
    {
     "name": "stdout",
     "output_type": "stream",
     "text": [
      "(1632, 150, 150, 3)\n"
     ]
    }
   ],
   "source": [
    "valid_x = np.array(valid_x_list)\n",
    "valid_x = valid_x.astype('float32')\n",
    "valid_x = valid_x / 255.\n",
    "print (valid_x.shape)"
   ]
  },
  {
   "cell_type": "code",
   "execution_count": 14,
   "metadata": {},
   "outputs": [],
   "source": [
    "labels = np.ones((nb_test_samples,),dtype='int64')\n",
    "\n",
    "labels[0:200]=0\n",
    "labels[200:400]=1\n",
    "labels[400:600]=2\n",
    "labels[600:800]=3\n",
    "labels[800:1000]=4\n",
    "labels[1000:1200]=5\n",
    "labels[1200:1400]=6\n",
    "labels[1400:1600]=7\n",
    "labels[1600:1800]=8\n",
    "labels[1800:2000]=9\n",
    "labels[2000:2200]=10\n",
    "labels[2200:]=11\n",
    "\n",
    "test_label = np_utils.to_categorical(labels, num_classes)"
   ]
  },
  {
   "cell_type": "code",
   "execution_count": 15,
   "metadata": {},
   "outputs": [],
   "source": [
    "labels = np.ones((nb_train_samples,),dtype='int64')\n",
    "\n",
    "labels[0:664]=0\n",
    "labels[664:1328]=1\n",
    "labels[1328:1992]=2\n",
    "labels[1992:2656]=3\n",
    "labels[2656:3320]=4\n",
    "labels[3320:3984]=5\n",
    "labels[3984:4648]=6\n",
    "labels[4648:5312]=7\n",
    "labels[5312:5976]=8\n",
    "labels[5976:6640]=9\n",
    "labels[6640:7304]=10\n",
    "labels[7304:]=11\n",
    "\n",
    "train_label = np_utils.to_categorical(labels, num_classes)"
   ]
  },
  {
   "cell_type": "code",
   "execution_count": 16,
   "metadata": {},
   "outputs": [],
   "source": [
    "labels = np.ones((nb_validation_samples,),dtype='int64')\n",
    "\n",
    "labels[0:136]=0\n",
    "labels[132:272]=1\n",
    "labels[272:408]=2\n",
    "labels[408:544]=3\n",
    "labels[544:680]=4\n",
    "labels[680:816]=5\n",
    "labels[816:952]=6\n",
    "labels[952:1088]=7\n",
    "labels[1088:1224]=8\n",
    "labels[1224:1360]=9\n",
    "labels[1360:1496]=10\n",
    "labels[1496:]=11\n",
    "\n",
    "valid_label = np_utils.to_categorical(labels, num_classes)"
   ]
  },
  {
   "cell_type": "code",
   "execution_count": 16,
   "metadata": {},
   "outputs": [
    {
     "data": {
      "text/plain": [
       "array([[1., 0., 0., ..., 0., 0., 0.],\n",
       "       [1., 0., 0., ..., 0., 0., 0.],\n",
       "       [1., 0., 0., ..., 0., 0., 0.],\n",
       "       ...,\n",
       "       [0., 0., 0., ..., 0., 0., 1.],\n",
       "       [0., 0., 0., ..., 0., 0., 1.],\n",
       "       [0., 0., 0., ..., 0., 0., 1.]])"
      ]
     },
     "execution_count": 16,
     "metadata": {},
     "output_type": "execute_result"
    }
   ],
   "source": [
    "valid_label"
   ]
  },
  {
   "cell_type": "code",
   "execution_count": 17,
   "metadata": {},
   "outputs": [],
   "source": [
    "if K.image_data_format() == 'channels_first':\n",
    "    input_shape = (3, 150, 150)\n",
    "else:\n",
    "    input_shape = (150, 150, 3)"
   ]
  },
  {
   "cell_type": "code",
   "execution_count": 18,
   "metadata": {},
   "outputs": [],
   "source": [
    "model = Sequential()\n",
    "model.add(Conv2D(32, (3, 3), input_shape=input_shape))\n",
    "model.add(Activation('relu'))\n",
    "model.add(MaxPooling2D(pool_size=(2, 2)))\n",
    "\n",
    "model.add(Conv2D(32, (3, 3)))\n",
    "model.add(Activation('relu'))\n",
    "model.add(MaxPooling2D(pool_size=(2, 2)))\n",
    "\n",
    "model.add(Conv2D(64, (3, 3)))\n",
    "model.add(Activation('relu'))\n",
    "model.add(MaxPooling2D(pool_size=(2, 2)))\n",
    "\n",
    "model.add(Flatten())\n",
    "model.add(Dense(64))\n",
    "model.add(Activation('relu'))\n",
    "model.add(Dropout(0.5))\n",
    "model.add(Dense(num_classes))\n",
    "model.add(Activation('sigmoid'))"
   ]
  },
  {
   "cell_type": "code",
   "execution_count": 19,
   "metadata": {},
   "outputs": [],
   "source": [
    "model.compile(loss='binary_crossentropy',\n",
    "              optimizer='rmsprop',\n",
    "              metrics=['accuracy'])"
   ]
  },
  {
   "cell_type": "code",
   "execution_count": 20,
   "metadata": {},
   "outputs": [
    {
     "name": "stdout",
     "output_type": "stream",
     "text": [
      "_________________________________________________________________\n",
      "Layer (type)                 Output Shape              Param #   \n",
      "=================================================================\n",
      "conv2d_1 (Conv2D)            (None, 148, 148, 32)      896       \n",
      "_________________________________________________________________\n",
      "activation_1 (Activation)    (None, 148, 148, 32)      0         \n",
      "_________________________________________________________________\n",
      "max_pooling2d_1 (MaxPooling2 (None, 74, 74, 32)        0         \n",
      "_________________________________________________________________\n",
      "conv2d_2 (Conv2D)            (None, 72, 72, 32)        9248      \n",
      "_________________________________________________________________\n",
      "activation_2 (Activation)    (None, 72, 72, 32)        0         \n",
      "_________________________________________________________________\n",
      "max_pooling2d_2 (MaxPooling2 (None, 36, 36, 32)        0         \n",
      "_________________________________________________________________\n",
      "conv2d_3 (Conv2D)            (None, 34, 34, 64)        18496     \n",
      "_________________________________________________________________\n",
      "activation_3 (Activation)    (None, 34, 34, 64)        0         \n",
      "_________________________________________________________________\n",
      "max_pooling2d_3 (MaxPooling2 (None, 17, 17, 64)        0         \n",
      "_________________________________________________________________\n",
      "flatten_1 (Flatten)          (None, 18496)             0         \n",
      "_________________________________________________________________\n",
      "dense_1 (Dense)              (None, 64)                1183808   \n",
      "_________________________________________________________________\n",
      "activation_4 (Activation)    (None, 64)                0         \n",
      "_________________________________________________________________\n",
      "dropout_1 (Dropout)          (None, 64)                0         \n",
      "_________________________________________________________________\n",
      "dense_2 (Dense)              (None, 12)                780       \n",
      "_________________________________________________________________\n",
      "activation_5 (Activation)    (None, 12)                0         \n",
      "=================================================================\n",
      "Total params: 1,213,228\n",
      "Trainable params: 1,213,228\n",
      "Non-trainable params: 0\n",
      "_________________________________________________________________\n"
     ]
    }
   ],
   "source": [
    "model.summary()"
   ]
  },
  {
   "cell_type": "code",
   "execution_count": 103,
   "metadata": {},
   "outputs": [],
   "source": [
    "# Esta é a configuração de aumento que usaremos para treinamento\n",
    "train_datagen = ImageDataGenerator(\n",
    "    rescale=1. / 255,\n",
    "    shear_range=0.2,\n",
    "    zoom_range=0.2,\n",
    "    horizontal_flip=True)"
   ]
  },
  {
   "cell_type": "code",
   "execution_count": 106,
   "metadata": {},
   "outputs": [],
   "source": [
    "# Esta é a configuração de aumento que usaremos para testar:\n",
    "# somente reescalonamento\n",
    "validation_datagen = ImageDataGenerator(rescale=1. / 255)"
   ]
  },
  {
   "cell_type": "code",
   "execution_count": 105,
   "metadata": {},
   "outputs": [],
   "source": [
    "train_generator = train_datagen.fit(train_x)"
   ]
  },
  {
   "cell_type": "code",
   "execution_count": 108,
   "metadata": {},
   "outputs": [],
   "source": [
    "validation_generator = validation_datagen.fit(valid_x)"
   ]
  },
  {
   "cell_type": "code",
   "execution_count": 21,
   "metadata": {},
   "outputs": [],
   "source": [
    "datagen = ImageDataGenerator(\n",
    "        featurewise_center=False,  # set input mean to 0 over the dataset\n",
    "        samplewise_center=False,  # set each sample mean to 0\n",
    "        featurewise_std_normalization=False,  # divide inputs by std of the dataset\n",
    "        samplewise_std_normalization=False,  # divide each input by its std\n",
    "        zca_whitening=False,  # apply ZCA whitening\n",
    "        rotation_range=0,  # randomly rotate images in the range (degrees, 0 to 180)\n",
    "        width_shift_range=0.1,  # randomly shift images horizontally (fraction of total width)\n",
    "        height_shift_range=0.1,  # randomly shift images vertically (fraction of total height)\n",
    "        horizontal_flip=True,  # randomly flip images\n",
    "        vertical_flip=False)  # randomly flip images\n",
    "\n",
    "    # Compute quantities required for feature-wise normalization\n",
    "    # (std, mean, and principal components if ZCA whitening is applied).\n",
    "datagen.fit(train_x)"
   ]
  },
  {
   "cell_type": "code",
   "execution_count": 22,
   "metadata": {
    "scrolled": true
   },
   "outputs": [
    {
     "name": "stdout",
     "output_type": "stream",
     "text": [
      "Epoch 1/20\n",
      "22/22 [==============================] - 247s 11s/step - loss: 0.4395 - acc: 0.8542 - val_loss: 0.3062 - val_acc: 0.9167\n",
      "Epoch 2/20\n",
      "22/22 [==============================] - 235s 11s/step - loss: 0.3611 - acc: 0.8992 - val_loss: 0.2938 - val_acc: 0.9167\n",
      "Epoch 3/20\n",
      "22/22 [==============================] - 231s 10s/step - loss: 0.3441 - acc: 0.9051 - val_loss: 0.2848 - val_acc: 0.9167\n",
      "Epoch 4/20\n",
      "22/22 [==============================] - 229s 10s/step - loss: 0.3311 - acc: 0.9086 - val_loss: 0.2735 - val_acc: 0.9167\n",
      "Epoch 5/20\n",
      "22/22 [==============================] - 231s 10s/step - loss: 0.3227 - acc: 0.9110 - val_loss: 0.2813 - val_acc: 0.9167\n",
      "Epoch 6/20\n",
      "22/22 [==============================] - 229s 10s/step - loss: 0.3139 - acc: 0.9127 - val_loss: 0.2850 - val_acc: 0.9167\n",
      "Epoch 7/20\n",
      "22/22 [==============================] - 226s 10s/step - loss: 0.3032 - acc: 0.9136 - val_loss: 0.2738 - val_acc: 0.9167\n",
      "Epoch 8/20\n",
      "22/22 [==============================] - 224s 10s/step - loss: 0.3044 - acc: 0.9141 - val_loss: 0.2689 - val_acc: 0.9171\n",
      "Epoch 9/20\n",
      "22/22 [==============================] - 225s 10s/step - loss: 0.2950 - acc: 0.9150 - val_loss: 0.2561 - val_acc: 0.9174\n",
      "Epoch 10/20\n",
      "22/22 [==============================] - 229s 10s/step - loss: 0.2923 - acc: 0.9148 - val_loss: 0.2871 - val_acc: 0.9184\n",
      "Epoch 11/20\n",
      "22/22 [==============================] - 228s 10s/step - loss: 0.2907 - acc: 0.9153 - val_loss: 0.2547 - val_acc: 0.9184\n",
      "Epoch 12/20\n",
      "22/22 [==============================] - 225s 10s/step - loss: 0.2874 - acc: 0.9156 - val_loss: 0.2498 - val_acc: 0.9185\n",
      "Epoch 13/20\n",
      "22/22 [==============================] - 223s 10s/step - loss: 0.2822 - acc: 0.9160 - val_loss: 0.2612 - val_acc: 0.9181\n",
      "Epoch 14/20\n",
      "22/22 [==============================] - 228s 10s/step - loss: 0.2840 - acc: 0.9159 - val_loss: 0.2623 - val_acc: 0.9178\n",
      "Epoch 15/20\n",
      "22/22 [==============================] - 227s 10s/step - loss: 0.2822 - acc: 0.9162 - val_loss: 0.2468 - val_acc: 0.9184\n",
      "Epoch 16/20\n",
      "22/22 [==============================] - 227s 10s/step - loss: 0.2767 - acc: 0.9163 - val_loss: 0.2446 - val_acc: 0.9189\n",
      "Epoch 17/20\n",
      "22/22 [==============================] - 222s 10s/step - loss: 0.2755 - acc: 0.9166 - val_loss: 0.2449 - val_acc: 0.9193\n",
      "Epoch 18/20\n",
      "22/22 [==============================] - 222s 10s/step - loss: 0.2777 - acc: 0.9166 - val_loss: 0.2489 - val_acc: 0.9191\n",
      "Epoch 19/20\n",
      "22/22 [==============================] - 226s 10s/step - loss: 0.2704 - acc: 0.9175 - val_loss: 0.2384 - val_acc: 0.9190\n",
      "Epoch 20/20\n",
      "22/22 [==============================] - 222s 10s/step - loss: 0.2717 - acc: 0.9175 - val_loss: 0.2459 - val_acc: 0.9202\n"
     ]
    }
   ],
   "source": [
    "h = model.fit_generator(datagen.flow(train_x, train_label,\n",
    "                                     batch_size=batch_size),\n",
    "                        epochs=epochs,\n",
    "                        validation_data=(valid_x, valid_label),workers=12)\n"
   ]
  },
  {
   "cell_type": "code",
   "execution_count": 23,
   "metadata": {},
   "outputs": [
    {
     "name": "stdout",
     "output_type": "stream",
     "text": [
      "dict_keys(['val_loss', 'val_acc', 'loss', 'acc'])\n"
     ]
    }
   ],
   "source": [
    "print(h.history.keys())"
   ]
  },
  {
   "cell_type": "code",
   "execution_count": 24,
   "metadata": {},
   "outputs": [],
   "source": [
    "test_eval = model.evaluate(test_x, test_label, verbose=0)"
   ]
  },
  {
   "cell_type": "code",
   "execution_count": 25,
   "metadata": {},
   "outputs": [
    {
     "name": "stdout",
     "output_type": "stream",
     "text": [
      "Test loss: 0.24556380033493042\n",
      "Test accuracy: 0.9197222407658895\n"
     ]
    }
   ],
   "source": [
    "print('Test loss:', test_eval[0])\n",
    "print('Test accuracy:', test_eval[1])"
   ]
  },
  {
   "cell_type": "code",
   "execution_count": 26,
   "metadata": {},
   "outputs": [
    {
     "data": {
      "image/png": "[encoded data removed]",
      "text/plain": [
       "<matplotlib.figure.Figure at 0x7fc5306c9eb8>"
      ]
     },
     "metadata": {},
     "output_type": "display_data"
    }
   ],
   "source": [
    "plt.plot(h.history['acc'])\n",
    "plt.plot(h.history['val_acc'])\n",
    "plt.title('model accuracy')\n",
    "plt.ylabel('accuracy')\n",
    "plt.xlabel('epoch')\n",
    "plt.legend(['train', 'test'], loc='upper left')\n",
    "plt.show()"
   ]
  },
  {
   "cell_type": "code",
   "execution_count": 27,
   "metadata": {},
   "outputs": [
    {
     "data": {
      "image/png": "[encoded data removed]",
      "text/plain": [
       "<matplotlib.figure.Figure at 0x7fc59ce43668>"
      ]
     },
     "metadata": {},
     "output_type": "display_data"
    }
   ],
   "source": [
    "# summarize history for loss\n",
    "plt.plot(h.history['loss'])\n",
    "plt.plot(h.history['val_loss'])\n",
    "plt.title('model loss')\n",
    "plt.ylabel('loss')\n",
    "plt.xlabel('epoch')\n",
    "plt.legend(['train', 'test'], loc='upper left')\n",
    "plt.show()"
   ]
  },
  {
   "cell_type": "code",
   "execution_count": 56,
   "metadata": {},
   "outputs": [
    {
     "ename": "ImportError",
     "evalue": "`save_weights` requires h5py.",
     "output_type": "error",
     "traceback": [
      "\u001b[0;31m---------------------------------------------------------------------------\u001b[0m",
      "\u001b[0;31mImportError\u001b[0m                               Traceback (most recent call last)",
      "\u001b[0;32m<ipython-input-56-83f89005a6c3>\u001b[0m in \u001b[0;36m<module>\u001b[0;34m()\u001b[0m\n\u001b[0;32m----> 1\u001b[0;31m \u001b[0mmodel\u001b[0m\u001b[0;34m.\u001b[0m\u001b[0msave_weights\u001b[0m\u001b[0;34m(\u001b[0m\u001b[0;34m'food.h5'\u001b[0m\u001b[0;34m)\u001b[0m\u001b[0;34m\u001b[0m\u001b[0m\n\u001b[0m",
      "\u001b[0;32m~/anaconda3/envs/fastai/lib/python3.6/site-packages/keras/models.py\u001b[0m in \u001b[0;36msave_weights\u001b[0;34m(self, filepath, overwrite)\u001b[0m\n\u001b[1;32m    740\u001b[0m     \u001b[0;32mdef\u001b[0m \u001b[0msave_weights\u001b[0m\u001b[0;34m(\u001b[0m\u001b[0mself\u001b[0m\u001b[0;34m,\u001b[0m \u001b[0mfilepath\u001b[0m\u001b[0;34m,\u001b[0m \u001b[0moverwrite\u001b[0m\u001b[0;34m=\u001b[0m\u001b[0;32mTrue\u001b[0m\u001b[0;34m)\u001b[0m\u001b[0;34m:\u001b[0m\u001b[0;34m\u001b[0m\u001b[0m\n\u001b[1;32m    741\u001b[0m         \u001b[0;32mif\u001b[0m \u001b[0mh5py\u001b[0m \u001b[0;32mis\u001b[0m \u001b[0;32mNone\u001b[0m\u001b[0;34m:\u001b[0m\u001b[0;34m\u001b[0m\u001b[0m\n\u001b[0;32m--> 742\u001b[0;31m             \u001b[0;32mraise\u001b[0m \u001b[0mImportError\u001b[0m\u001b[0;34m(\u001b[0m\u001b[0;34m'`save_weights` requires h5py.'\u001b[0m\u001b[0;34m)\u001b[0m\u001b[0;34m\u001b[0m\u001b[0m\n\u001b[0m\u001b[1;32m    743\u001b[0m         \u001b[0;31m# If file exists and should not be overwritten:\u001b[0m\u001b[0;34m\u001b[0m\u001b[0;34m\u001b[0m\u001b[0m\n\u001b[1;32m    744\u001b[0m         \u001b[0;32mif\u001b[0m \u001b[0;32mnot\u001b[0m \u001b[0moverwrite\u001b[0m \u001b[0;32mand\u001b[0m \u001b[0mos\u001b[0m\u001b[0;34m.\u001b[0m\u001b[0mpath\u001b[0m\u001b[0;34m.\u001b[0m\u001b[0misfile\u001b[0m\u001b[0;34m(\u001b[0m\u001b[0mfilepath\u001b[0m\u001b[0;34m)\u001b[0m\u001b[0;34m:\u001b[0m\u001b[0;34m\u001b[0m\u001b[0m\n",
      "\u001b[0;31mImportError\u001b[0m: `save_weights` requires h5py."
     ]
    }
   ],
   "source": [
    "model.save_weights('food.h5')"
   ]
  },
  {
   "cell_type": "code",
   "execution_count": 28,
   "metadata": {},
   "outputs": [
    {
     "data": {
      "image/png": "[encoded data removed]",
      "text/plain": [
       "<matplotlib.figure.Figure at 0x7fc553de0c18>"
      ]
     },
     "metadata": {},
     "output_type": "display_data"
    },
    {
     "data": {
      "image/png": "[encoded data removed]",
      "text/plain": [
       "<matplotlib.figure.Figure at 0x7fc553d446d8>"
      ]
     },
     "metadata": {},
     "output_type": "display_data"
    }
   ],
   "source": [
    "accuracy = h.history['acc']\n",
    "val_accuracy = h.history['val_acc']\n",
    "loss = h.history['loss']\n",
    "val_loss = h.history['val_loss']\n",
    "epochs = range(len(accuracy))\n",
    "plt.plot(epochs, accuracy, 'bo', label='Training accuracy')\n",
    "plt.plot(epochs, val_accuracy, 'b', label='Validation accuracy')\n",
    "plt.title('Training and validation accuracy')\n",
    "plt.legend()\n",
    "plt.figure()\n",
    "plt.plot(epochs, loss, 'bo', label='Training loss')\n",
    "plt.plot(epochs, val_loss, 'b', label='Validation loss')\n",
    "plt.title('Training and validation loss')\n",
    "plt.legend()\n",
    "plt.show()"
   ]
  },
  {
   "cell_type": "code",
   "execution_count": 29,
   "metadata": {},
   "outputs": [],
   "source": [
    "predicted_classes = model.predict(test_x)"
   ]
  },
  {
   "cell_type": "code",
   "execution_count": 30,
   "metadata": {},
   "outputs": [],
   "source": [
    "predicted_classes = np.argmax(np.round(predicted_classes),axis=1)"
   ]
  },
  {
   "cell_type": "code",
   "execution_count": 32,
   "metadata": {},
   "outputs": [
    {
     "data": {
      "text/plain": [
       "((2400,), (2400, 12))"
      ]
     },
     "execution_count": 32,
     "metadata": {},
     "output_type": "execute_result"
    }
   ],
   "source": [
    "predicted_classes.shape, test_label.shape"
   ]
  },
  {
   "cell_type": "code",
   "execution_count": 35,
   "metadata": {},
   "outputs": [
    {
     "name": "stdout",
     "output_type": "stream",
     "text": [
      "Found 0 correct labels\n"
     ]
    },
    {
     "name": "stderr",
     "output_type": "stream",
     "text": [
      "/home/guilhermino/anaconda3/envs/fastai/lib/python3.6/site-packages/ipykernel_launcher.py:1: DeprecationWarning: elementwise == comparison failed; this will raise an error in the future.\n",
      "  \"\"\"Entry point for launching an IPython kernel.\n"
     ]
    }
   ],
   "source": [
    "correct = np.where(predicted_classes==test_label)[0]\n",
    "print(\"Found %d correct labels\" % len(correct))"
   ]
  },
  {
   "cell_type": "code",
   "execution_count": 36,
   "metadata": {},
   "outputs": [
    {
     "data": {
      "text/plain": [
       "array([], dtype=int64)"
      ]
     },
     "execution_count": 36,
     "metadata": {},
     "output_type": "execute_result"
    }
   ],
   "source": [
    "correct"
   ]
  },
  {
   "cell_type": "code",
   "execution_count": 38,
   "metadata": {},
   "outputs": [
    {
     "data": {
      "text/plain": [
       "0"
      ]
     },
     "execution_count": 38,
     "metadata": {},
     "output_type": "execute_result"
    }
   ],
   "source": [
    "predicted_classes[0]"
   ]
  },
  {
   "cell_type": "code",
   "execution_count": 40,
   "metadata": {},
   "outputs": [
    {
     "data": {
      "text/plain": [
       "array([1., 0., 0., 0., 0., 0., 0., 0., 0., 0., 0., 0.])"
      ]
     },
     "execution_count": 40,
     "metadata": {},
     "output_type": "execute_result"
    }
   ],
   "source": [
    "test_label[1]"
   ]
  },
  {
   "cell_type": "code",
   "execution_count": null,
   "metadata": {},
   "outputs": [],
   "source": []
  }
 ],
 "metadata": {
  "kernelspec": {
   "display_name": "Python 3",
   "language": "python",
   "name": "python3"
  },
  "language_info": {
   "codemirror_mode": {
    "name": "ipython",
    "version": 3
   },
   "file_extension": ".py",
   "mimetype": "text/x-python",
   "name": "python",
   "nbconvert_exporter": "python",
   "pygments_lexer": "ipython3",
   "version": "3.6.4"
  }
 },
 "nbformat": 4,
 "nbformat_minor": 2
}
